{
 "cells": [
  {
   "cell_type": "markdown",
   "id": "6bd4cf95-5b4d-43ff-8849-a5292ebb5a46",
   "metadata": {},
   "source": [
    "# Conda prompts"
   ]
  },
  {
   "cell_type": "markdown",
   "id": "9acc7c09-f83e-488b-8cec-cd4337409f92",
   "metadata": {},
   "source": [
    "##### List of environment:\n",
    "\n",
    "```bash\n",
    "conda env list\n",
    "```"
   ]
  },
  {
   "cell_type": "markdown",
   "id": "6b58162b-3a89-40e1-80d2-90279bc6697f",
   "metadata": {},
   "source": [
    "### Creating Environments with Conda"
   ]
  },
  {
   "cell_type": "markdown",
   "id": "615d435e-1abc-4e04-b53e-3cc2830f1fc4",
   "metadata": {},
   "source": [
    "##### To create a conda environment, use the following command:\n",
    "\n",
    "```bash\n",
    "conda create --name <my-env>\n",
    "```\n",
    "\n",
    "##### To create an environment with a specific version of Python:\n",
    "```bash\n",
    "conda create -n myenv python=3.9\n",
    "```\n",
    "\n",
    "##### To create an environment with a specific package:\n",
    "```bash\n",
    "conda create -n myenv scipy\n",
    "```\n",
    "##### or\n",
    "```bash\n",
    "conda create -n myenv python\n",
    "conda install -n myenv scipy\n",
    "```\n",
    "\n",
    "##### To create an environment with a specific version of a package:\n",
    "```bash\n",
    "conda create -n myenv scipy=0.17.3\n",
    "```\n",
    "##### or\n",
    "```bash\n",
    "conda create -n myenv python\n",
    "conda install -n myenv scipy=0.17.3\n",
    "```\n",
    "\n",
    "##### To create an environment with a specific version of Python and multiple packages:\n",
    "```bash\n",
    "conda create -n myenv python=3.9 scipy=0.17.3 astroid babel\n",
    "```\n",
    "\n",
    "##### Create the environment from the environment.yml file:\n",
    "```bash\n",
    "conda env create -f environment.yml\n",
    "```\n",
    "\n",
    "\n"
   ]
  },
  {
   "cell_type": "markdown",
   "id": "7643c6cd-be55-4159-b448-8ce2ebbb205a",
   "metadata": {},
   "source": [
    "### Cloning an environment"
   ]
  },
  {
   "cell_type": "markdown",
   "id": "02428491-f317-48e7-9ede-b46aac52dbed",
   "metadata": {},
   "source": [
    "\n",
    "##### You can make an exact copy of an environment by creating a clone of it:\n",
    "```bash\n",
    "conda create --name myclone --clone myenv\n",
    "```"
   ]
  },
  {
   "cell_type": "markdown",
   "id": "4d6cf7fe-5fdd-4d75-9062-78c932a1cdb1",
   "metadata": {},
   "source": [
    "### Deactivating an environment:\n",
    "```bash\n",
    "conda deactivate\n",
    "```\n"
   ]
  },
  {
   "cell_type": "markdown",
   "id": "032e9911-7c0b-4262-b920-20ceef54b6a2",
   "metadata": {},
   "source": [
    "### Installing packages"
   ]
  },
  {
   "cell_type": "markdown",
   "id": "0faa886a-44a5-40e2-ac32-bbef46f457dc",
   "metadata": {},
   "source": [
    "##### To install a specific package such as SciPy into an existing environment \"myenv\":\n",
    "\n",
    "```bash\n",
    "conda install scipy\n",
    "```\n",
    "\n",
    "##### To install a specific version of a package such as SciPy:\n",
    "\n",
    "```bash\n",
    "conda install scipy=0.15.0\n",
    "```\n",
    "\n",
    "##### To install multiple packages at once, such as SciPy and cURL:\n",
    "\n",
    "```bash\n",
    "conda install scipy curl\n",
    "```\n",
    "\n",
    "##### To install multiple packages at once and specify the version of the package:\n",
    "\n",
    "```bash\n",
    "conda install scipy=0.15.0 curl=7.26.0\n",
    "```\n",
    "\n",
    "##### To check that the package is installed, in your terminal window, run:\n",
    "\n",
    "```bash\n",
    "conda list\n",
    "```\n",
    "\n",
    "\n",
    "##### To list all of the packages in a deactivated environment:\n",
    "\n",
    "```bash\n",
    "conda list -n myenv\n",
    "```"
   ]
  },
  {
   "cell_type": "markdown",
   "id": "16481f48-b945-445f-aece-35ab5380bb2b",
   "metadata": {},
   "source": [
    "### Updating packages"
   ]
  },
  {
   "cell_type": "markdown",
   "id": "2607307b-ade9-43c0-93d9-d7fbd0143ae2",
   "metadata": {},
   "source": [
    "##### To update a specific package:\n",
    "```bash\n",
    "conda update pandas\n",
    "```\n",
    "\n",
    "##### To update Python:\n",
    "```bash\n",
    "conda update python\n",
    "```\n",
    "\n",
    "##### To update conda itself:\n",
    "```bash\n",
    "conda update conda\n",
    "```"
   ]
  },
  {
   "cell_type": "markdown",
   "id": "32f71174-7740-449f-9b40-d69cece64741",
   "metadata": {},
   "source": [
    "### Exporting the environment.yml file"
   ]
  },
  {
   "cell_type": "markdown",
   "id": "ca7e445b-c464-42cb-806f-283a79111641",
   "metadata": {},
   "source": [
    "##### Export your active environment to a new file:\n",
    "```bash\n",
    "conda env export > environment.yml\n",
    "```\n",
    "\n",
    "```bash\n",
    "conda env export --name exploratory > conda_env.yml\n",
    "```\n",
    "##### The command will look into any new (or different) dependencies and install them. The --prune flag will remove anything that is no longer defined in the conda_env.yml file:\n",
    "```bash\n",
    " conda env update --file conda_env.yml --prune\n",
    " ```"
   ]
  },
  {
   "cell_type": "markdown",
   "id": "5497ce28-e141-4c51-bc9f-0b775cc4f826",
   "metadata": {},
   "source": [
    "### Removing an environment"
   ]
  },
  {
   "cell_type": "markdown",
   "id": "cd612530-7134-4981-a9ac-8b18aa548d80",
   "metadata": {},
   "source": [
    "##### To remove an environment, in your terminal window, run:\n",
    "```bash\n",
    "conda remove --name myenv --all\n",
    "```"
   ]
  },
  {
   "cell_type": "markdown",
   "source": [
    "\n",
    "##### Exporting dependencies:\n",
    "```bash\n",
    "pip freeze > requirements.txt\n",
    "```"
   ],
   "metadata": {
    "collapsed": false
   },
   "id": "7d1aa75a167045a8"
  },
  {
   "cell_type": "markdown",
   "source": [
    " ##### To use a conda enviroment in kernel on jupyter\n",
    "\n",
    "\n",
    "pip install ipykernel\n",
    "\n",
    "python -m ipykernel install --user --name=ml-deployment --display-name \"Python (ml-deployment)\"\n",
    "\n",
    "  \n"
   ],
   "metadata": {
    "collapsed": false
   },
   "id": "d8fcd4e9997f77a8"
  }
 ],
 "metadata": {
  "kernelspec": {
   "display_name": "Python 3 (ipykernel)",
   "language": "python",
   "name": "python3"
  },
  "language_info": {
   "codemirror_mode": {
    "name": "ipython",
    "version": 3
   },
   "file_extension": ".py",
   "mimetype": "text/x-python",
   "name": "python",
   "nbconvert_exporter": "python",
   "pygments_lexer": "ipython3",
   "version": "3.8.19"
  }
 },
 "nbformat": 4,
 "nbformat_minor": 5
}
